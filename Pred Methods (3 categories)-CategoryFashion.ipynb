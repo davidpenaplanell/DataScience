{
 "cells": [
  {
   "cell_type": "markdown",
   "metadata": {
    "collapsed": false
   },
   "source": [
    "# MULTIPLE  REGRESSION & SUPERVISED CLASSIFICATION METHODS"
   ]
  },
  {
   "cell_type": "markdown",
   "metadata": {},
   "source": [
    "#### How much money on average will spend a customer in fashion, on a single purchase , according to his profile, place, and day of the week?"
   ]
  },
  {
   "cell_type": "markdown",
   "metadata": {},
   "source": [
    "##1. DATA PREPARATION:  CLEANING & ENRICHMENT"
   ]
  },
  {
   "cell_type": "code",
   "execution_count": 1,
   "metadata": {
    "collapsed": false
   },
   "outputs": [
    {
     "name": "stdout",
     "output_type": "stream",
     "text": [
      "(48538, 12)\n"
     ]
    },
    {
     "data": {
      "text/html": [
       "<div style=\"max-height:1000px;max-width:1500px;overflow:auto;\">\n",
       "<table border=\"1\" class=\"dataframe\">\n",
       "  <thead>\n",
       "    <tr style=\"text-align: right;\">\n",
       "      <th></th>\n",
       "      <th>zipcode</th>\n",
       "      <th>date</th>\n",
       "      <th>category</th>\n",
       "      <th>age</th>\n",
       "      <th>gender</th>\n",
       "      <th>merchants</th>\n",
       "      <th>cards</th>\n",
       "      <th>numpayments</th>\n",
       "      <th>avgpayment</th>\n",
       "      <th>max</th>\n",
       "      <th>min</th>\n",
       "      <th>std</th>\n",
       "    </tr>\n",
       "  </thead>\n",
       "  <tbody>\n",
       "    <tr>\n",
       "      <th>0</th>\n",
       "      <td>8001</td>\n",
       "      <td>2014-07-01</td>\n",
       "      <td>es_food</td>\n",
       "      <td>unknown</td>\n",
       "      <td>unknown</td>\n",
       "      <td>8</td>\n",
       "      <td>25</td>\n",
       "      <td>26</td>\n",
       "      <td>13.73</td>\n",
       "      <td>31.50</td>\n",
       "      <td>1.50</td>\n",
       "      <td>8.015002</td>\n",
       "    </tr>\n",
       "    <tr>\n",
       "      <th>1</th>\n",
       "      <td>8001</td>\n",
       "      <td>2014-07-24</td>\n",
       "      <td>es_transportation</td>\n",
       "      <td>unknown</td>\n",
       "      <td>unknown</td>\n",
       "      <td>12</td>\n",
       "      <td>59</td>\n",
       "      <td>60</td>\n",
       "      <td>16.12</td>\n",
       "      <td>92.00</td>\n",
       "      <td>1.25</td>\n",
       "      <td>17.882527</td>\n",
       "    </tr>\n",
       "    <tr>\n",
       "      <th>2</th>\n",
       "      <td>8001</td>\n",
       "      <td>2014-07-09</td>\n",
       "      <td>es_otherservices</td>\n",
       "      <td>unknown</td>\n",
       "      <td>unknown</td>\n",
       "      <td>12</td>\n",
       "      <td>64</td>\n",
       "      <td>64</td>\n",
       "      <td>43.42</td>\n",
       "      <td>275.00</td>\n",
       "      <td>4.10</td>\n",
       "      <td>52.466928</td>\n",
       "    </tr>\n",
       "    <tr>\n",
       "      <th>3</th>\n",
       "      <td>8001</td>\n",
       "      <td>2014-07-09</td>\n",
       "      <td>es_food</td>\n",
       "      <td>unknown</td>\n",
       "      <td>unknown</td>\n",
       "      <td>7</td>\n",
       "      <td>28</td>\n",
       "      <td>29</td>\n",
       "      <td>11.72</td>\n",
       "      <td>30.56</td>\n",
       "      <td>0.90</td>\n",
       "      <td>8.120161</td>\n",
       "    </tr>\n",
       "    <tr>\n",
       "      <th>4</th>\n",
       "      <td>8001</td>\n",
       "      <td>2014-07-25</td>\n",
       "      <td>es_barsandrestaurants</td>\n",
       "      <td>35-44</td>\n",
       "      <td>male</td>\n",
       "      <td>5</td>\n",
       "      <td>5</td>\n",
       "      <td>5</td>\n",
       "      <td>46.02</td>\n",
       "      <td>165.00</td>\n",
       "      <td>7.10</td>\n",
       "      <td>59.893586</td>\n",
       "    </tr>\n",
       "  </tbody>\n",
       "</table>\n",
       "</div>"
      ],
      "text/plain": [
       "   zipcode        date               category      age   gender  merchants  \\\n",
       "0     8001  2014-07-01                es_food  unknown  unknown          8   \n",
       "1     8001  2014-07-24      es_transportation  unknown  unknown         12   \n",
       "2     8001  2014-07-09       es_otherservices  unknown  unknown         12   \n",
       "3     8001  2014-07-09                es_food  unknown  unknown          7   \n",
       "4     8001  2014-07-25  es_barsandrestaurants    35-44     male          5   \n",
       "\n",
       "   cards  numpayments  avgpayment     max   min        std  \n",
       "0     25           26       13.73   31.50  1.50   8.015002  \n",
       "1     59           60       16.12   92.00  1.25  17.882527  \n",
       "2     64           64       43.42  275.00  4.10  52.466928  \n",
       "3     28           29       11.72   30.56  0.90   8.120161  \n",
       "4      5            5       46.02  165.00  7.10  59.893586  "
      ]
     },
     "execution_count": 1,
     "metadata": {},
     "output_type": "execute_result"
    }
   ],
   "source": [
    "# imports\n",
    "import numpy as np\n",
    "import pandas as pd \n",
    "from sklearn.tree import DecisionTreeRegressor\n",
    "import matplotlib.pyplot as plt\n",
    "import matplotlib as mpl\n",
    "\n",
    "# this allows plots to appear directly in the notebook\n",
    "%matplotlib inline \n",
    "\n",
    "demo = pd.io.parsers.read_table('/Users/davidpena/Desktop/PosgradoUB/Proyecto/BBVA/demographic_distribution000', sep='\\t', names =['zipcode','date','category','age','gender', 'merchants', 'cards','numpayments', 'avgpayment', 'max', 'min', 'std'])\n",
    "print demo.shape\n",
    "demo.head()"
   ]
  },
  {
   "cell_type": "code",
   "execution_count": 2,
   "metadata": {
    "collapsed": false
   },
   "outputs": [],
   "source": [
    "#First glance to correlations \n",
    "#sns.corrplot(demo)"
   ]
  },
  {
   "cell_type": "code",
   "execution_count": 3,
   "metadata": {
    "collapsed": false
   },
   "outputs": [
    {
     "name": "stdout",
     "output_type": "stream",
     "text": [
      "Our data frame now have the following size:  (12315, 12)\n"
     ]
    },
    {
     "data": {
      "text/html": [
       "<div style=\"max-height:1000px;max-width:1500px;overflow:auto;\">\n",
       "<table border=\"1\" class=\"dataframe\">\n",
       "  <thead>\n",
       "    <tr style=\"text-align: right;\">\n",
       "      <th></th>\n",
       "      <th>zipcode</th>\n",
       "      <th>date</th>\n",
       "      <th>category</th>\n",
       "      <th>age</th>\n",
       "      <th>gender</th>\n",
       "      <th>merchants</th>\n",
       "      <th>cards</th>\n",
       "      <th>numpayments</th>\n",
       "      <th>avgpayment</th>\n",
       "      <th>max</th>\n",
       "      <th>min</th>\n",
       "      <th>std</th>\n",
       "    </tr>\n",
       "  </thead>\n",
       "  <tbody>\n",
       "    <tr>\n",
       "      <th>7</th>\n",
       "      <td>8001</td>\n",
       "      <td>2014-07-27</td>\n",
       "      <td>es_fashion</td>\n",
       "      <td>unknown</td>\n",
       "      <td>unknown</td>\n",
       "      <td>5</td>\n",
       "      <td>38</td>\n",
       "      <td>39</td>\n",
       "      <td>24.26</td>\n",
       "      <td>87.31</td>\n",
       "      <td>7.99</td>\n",
       "      <td>15.135713</td>\n",
       "    </tr>\n",
       "    <tr>\n",
       "      <th>9</th>\n",
       "      <td>8001</td>\n",
       "      <td>2014-07-24</td>\n",
       "      <td>es_fashion</td>\n",
       "      <td>unknown</td>\n",
       "      <td>unknown</td>\n",
       "      <td>17</td>\n",
       "      <td>160</td>\n",
       "      <td>164</td>\n",
       "      <td>30.51</td>\n",
       "      <td>345.39</td>\n",
       "      <td>2.00</td>\n",
       "      <td>49.655736</td>\n",
       "    </tr>\n",
       "    <tr>\n",
       "      <th>20</th>\n",
       "      <td>8002</td>\n",
       "      <td>2014-07-04</td>\n",
       "      <td>es_fashion</td>\n",
       "      <td>35-44</td>\n",
       "      <td>male</td>\n",
       "      <td>5</td>\n",
       "      <td>5</td>\n",
       "      <td>5</td>\n",
       "      <td>44.89</td>\n",
       "      <td>85.00</td>\n",
       "      <td>9.95</td>\n",
       "      <td>27.541576</td>\n",
       "    </tr>\n",
       "    <tr>\n",
       "      <th>21</th>\n",
       "      <td>8002</td>\n",
       "      <td>2014-07-08</td>\n",
       "      <td>es_fashion</td>\n",
       "      <td>25-34</td>\n",
       "      <td>female</td>\n",
       "      <td>7</td>\n",
       "      <td>7</td>\n",
       "      <td>8</td>\n",
       "      <td>33.45</td>\n",
       "      <td>89.90</td>\n",
       "      <td>7.99</td>\n",
       "      <td>24.267551</td>\n",
       "    </tr>\n",
       "    <tr>\n",
       "      <th>23</th>\n",
       "      <td>8002</td>\n",
       "      <td>2014-07-23</td>\n",
       "      <td>es_fashion</td>\n",
       "      <td>35-44</td>\n",
       "      <td>female</td>\n",
       "      <td>7</td>\n",
       "      <td>7</td>\n",
       "      <td>7</td>\n",
       "      <td>58.46</td>\n",
       "      <td>117.60</td>\n",
       "      <td>13.35</td>\n",
       "      <td>39.195540</td>\n",
       "    </tr>\n",
       "  </tbody>\n",
       "</table>\n",
       "</div>"
      ],
      "text/plain": [
       "    zipcode        date    category      age   gender  merchants  cards  \\\n",
       "7      8001  2014-07-27  es_fashion  unknown  unknown          5     38   \n",
       "9      8001  2014-07-24  es_fashion  unknown  unknown         17    160   \n",
       "20     8002  2014-07-04  es_fashion    35-44     male          5      5   \n",
       "21     8002  2014-07-08  es_fashion    25-34   female          7      7   \n",
       "23     8002  2014-07-23  es_fashion    35-44   female          7      7   \n",
       "\n",
       "    numpayments  avgpayment     max    min        std  \n",
       "7            39       24.26   87.31   7.99  15.135713  \n",
       "9           164       30.51  345.39   2.00  49.655736  \n",
       "20            5       44.89   85.00   9.95  27.541576  \n",
       "21            8       33.45   89.90   7.99  24.267551  \n",
       "23            7       58.46  117.60  13.35  39.195540  "
      ]
     },
     "execution_count": 3,
     "metadata": {},
     "output_type": "execute_result"
    }
   ],
   "source": [
    "fashion = demo[demo.category=='es_fashion']\n",
    "print 'Our data frame now have the following size: ', fashion.shape \n",
    "fashion.head()"
   ]
  },
  {
   "cell_type": "code",
   "execution_count": 4,
   "metadata": {
    "collapsed": false
   },
   "outputs": [
    {
     "name": "stdout",
     "output_type": "stream",
     "text": [
      "Our data frame now have the following size:  (8549, 12)\n"
     ]
    },
    {
     "name": "stderr",
     "output_type": "stream",
     "text": [
      "/Users/davidpena/anaconda/lib/python2.7/site-packages/pandas/core/frame.py:1819: UserWarning: Boolean Series key will be reindexed to match DataFrame index.\n",
      "  \"DataFrame index.\", UserWarning)\n"
     ]
    },
    {
     "data": {
      "text/html": [
       "<div style=\"max-height:1000px;max-width:1500px;overflow:auto;\">\n",
       "<table border=\"1\" class=\"dataframe\">\n",
       "  <thead>\n",
       "    <tr style=\"text-align: right;\">\n",
       "      <th></th>\n",
       "      <th>zipcode</th>\n",
       "      <th>date</th>\n",
       "      <th>category</th>\n",
       "      <th>age</th>\n",
       "      <th>gender</th>\n",
       "      <th>merchants</th>\n",
       "      <th>cards</th>\n",
       "      <th>numpayments</th>\n",
       "      <th>avgpayment</th>\n",
       "      <th>max</th>\n",
       "      <th>min</th>\n",
       "      <th>std</th>\n",
       "    </tr>\n",
       "  </thead>\n",
       "  <tbody>\n",
       "    <tr>\n",
       "      <th>20</th>\n",
       "      <td>8002</td>\n",
       "      <td>2014-07-04</td>\n",
       "      <td>es_fashion</td>\n",
       "      <td>35-44</td>\n",
       "      <td>male</td>\n",
       "      <td>5</td>\n",
       "      <td>5</td>\n",
       "      <td>5</td>\n",
       "      <td>44.89</td>\n",
       "      <td>85.00</td>\n",
       "      <td>9.95</td>\n",
       "      <td>27.541576</td>\n",
       "    </tr>\n",
       "    <tr>\n",
       "      <th>21</th>\n",
       "      <td>8002</td>\n",
       "      <td>2014-07-08</td>\n",
       "      <td>es_fashion</td>\n",
       "      <td>25-34</td>\n",
       "      <td>female</td>\n",
       "      <td>7</td>\n",
       "      <td>7</td>\n",
       "      <td>8</td>\n",
       "      <td>33.45</td>\n",
       "      <td>89.90</td>\n",
       "      <td>7.99</td>\n",
       "      <td>24.267551</td>\n",
       "    </tr>\n",
       "    <tr>\n",
       "      <th>23</th>\n",
       "      <td>8002</td>\n",
       "      <td>2014-07-23</td>\n",
       "      <td>es_fashion</td>\n",
       "      <td>35-44</td>\n",
       "      <td>female</td>\n",
       "      <td>7</td>\n",
       "      <td>7</td>\n",
       "      <td>7</td>\n",
       "      <td>58.46</td>\n",
       "      <td>117.60</td>\n",
       "      <td>13.35</td>\n",
       "      <td>39.195540</td>\n",
       "    </tr>\n",
       "    <tr>\n",
       "      <th>24</th>\n",
       "      <td>8002</td>\n",
       "      <td>2014-07-01</td>\n",
       "      <td>es_fashion</td>\n",
       "      <td>25-34</td>\n",
       "      <td>female</td>\n",
       "      <td>12</td>\n",
       "      <td>17</td>\n",
       "      <td>21</td>\n",
       "      <td>30.03</td>\n",
       "      <td>82.95</td>\n",
       "      <td>9.99</td>\n",
       "      <td>19.302063</td>\n",
       "    </tr>\n",
       "    <tr>\n",
       "      <th>25</th>\n",
       "      <td>8002</td>\n",
       "      <td>2014-07-05</td>\n",
       "      <td>es_fashion</td>\n",
       "      <td>25-34</td>\n",
       "      <td>male</td>\n",
       "      <td>6</td>\n",
       "      <td>7</td>\n",
       "      <td>9</td>\n",
       "      <td>38.75</td>\n",
       "      <td>99.95</td>\n",
       "      <td>9.99</td>\n",
       "      <td>32.479977</td>\n",
       "    </tr>\n",
       "  </tbody>\n",
       "</table>\n",
       "</div>"
      ],
      "text/plain": [
       "    zipcode        date    category    age  gender  merchants  cards  \\\n",
       "20     8002  2014-07-04  es_fashion  35-44    male          5      5   \n",
       "21     8002  2014-07-08  es_fashion  25-34  female          7      7   \n",
       "23     8002  2014-07-23  es_fashion  35-44  female          7      7   \n",
       "24     8002  2014-07-01  es_fashion  25-34  female         12     17   \n",
       "25     8002  2014-07-05  es_fashion  25-34    male          6      7   \n",
       "\n",
       "    numpayments  avgpayment     max    min        std  \n",
       "20            5       44.89   85.00   9.95  27.541576  \n",
       "21            8       33.45   89.90   7.99  24.267551  \n",
       "23            7       58.46  117.60  13.35  39.195540  \n",
       "24           21       30.03   82.95   9.99  19.302063  \n",
       "25            9       38.75   99.95   9.99  32.479977  "
      ]
     },
     "execution_count": 4,
     "metadata": {},
     "output_type": "execute_result"
    }
   ],
   "source": [
    "#For our prediction porpouse, we will have to take out 'unknown' raws\n",
    "\n",
    "fashion = fashion[demo.age!='unknown']\n",
    "fashion = fashion[demo.gender!='unknown']\n",
    "\n",
    "print 'Our data frame now have the following size: ', fashion.shape \n",
    "\n",
    "fashion.head()\n"
   ]
  },
  {
   "cell_type": "code",
   "execution_count": 5,
   "metadata": {
    "collapsed": false
   },
   "outputs": [
    {
     "name": "stdout",
     "output_type": "stream",
     "text": [
      "['V' 'M' 'X' 'S' 'J' 'D' 'L']\n"
     ]
    },
    {
     "data": {
      "text/html": [
       "<div style=\"max-height:1000px;max-width:1500px;overflow:auto;\">\n",
       "<table border=\"1\" class=\"dataframe\">\n",
       "  <thead>\n",
       "    <tr style=\"text-align: right;\">\n",
       "      <th></th>\n",
       "      <th>zipcode</th>\n",
       "      <th>date</th>\n",
       "      <th>age</th>\n",
       "      <th>gender</th>\n",
       "      <th>avgpayment</th>\n",
       "      <th>day</th>\n",
       "    </tr>\n",
       "  </thead>\n",
       "  <tbody>\n",
       "    <tr>\n",
       "      <th>0</th>\n",
       "      <td>8002</td>\n",
       "      <td>2014-07-04</td>\n",
       "      <td>35-44</td>\n",
       "      <td>male</td>\n",
       "      <td>44.89</td>\n",
       "      <td>V</td>\n",
       "    </tr>\n",
       "    <tr>\n",
       "      <th>1</th>\n",
       "      <td>8001</td>\n",
       "      <td>2014-07-04</td>\n",
       "      <td>25-34</td>\n",
       "      <td>male</td>\n",
       "      <td>35.48</td>\n",
       "      <td>V</td>\n",
       "    </tr>\n",
       "    <tr>\n",
       "      <th>2</th>\n",
       "      <td>8002</td>\n",
       "      <td>2014-07-04</td>\n",
       "      <td>25-34</td>\n",
       "      <td>male</td>\n",
       "      <td>57.45</td>\n",
       "      <td>V</td>\n",
       "    </tr>\n",
       "    <tr>\n",
       "      <th>3</th>\n",
       "      <td>8002</td>\n",
       "      <td>2014-07-04</td>\n",
       "      <td>25-34</td>\n",
       "      <td>male</td>\n",
       "      <td>31.40</td>\n",
       "      <td>V</td>\n",
       "    </tr>\n",
       "    <tr>\n",
       "      <th>4</th>\n",
       "      <td>8002</td>\n",
       "      <td>2014-07-04</td>\n",
       "      <td>25-34</td>\n",
       "      <td>female</td>\n",
       "      <td>56.15</td>\n",
       "      <td>V</td>\n",
       "    </tr>\n",
       "  </tbody>\n",
       "</table>\n",
       "</div>"
      ],
      "text/plain": [
       "   zipcode        date    age  gender  avgpayment day\n",
       "0     8002  2014-07-04  35-44    male       44.89   V\n",
       "1     8001  2014-07-04  25-34    male       35.48   V\n",
       "2     8002  2014-07-04  25-34    male       57.45   V\n",
       "3     8002  2014-07-04  25-34    male       31.40   V\n",
       "4     8002  2014-07-04  25-34  female       56.15   V"
      ]
     },
     "execution_count": 5,
     "metadata": {},
     "output_type": "execute_result"
    }
   ],
   "source": [
    "#We still can take out some useless columns for our purpose\n",
    "fashion= fashion.reindex(columns=['zipcode','date','age','gender','avgpayment'])\n",
    "\n",
    "#We will also enrich our data frame with  the days of the week\n",
    "day=pd.io.parsers.read_table('/Users/davidpena/Desktop/PosgradoUB/Proyecto/DiesSetmana.txt', sep='\t', names =['date','day'])\n",
    "fashion=pd.merge(fashion,day,on='date')\n",
    "print fashion.day.unique()\n",
    "fashion.head()"
   ]
  },
  {
   "cell_type": "code",
   "execution_count": 6,
   "metadata": {
    "collapsed": false
   },
   "outputs": [
    {
     "name": "stdout",
     "output_type": "stream",
     "text": [
      "Top 10 average payment: \n"
     ]
    },
    {
     "data": {
      "text/html": [
       "<div style=\"max-height:1000px;max-width:1500px;overflow:auto;\">\n",
       "<table border=\"1\" class=\"dataframe\">\n",
       "  <thead>\n",
       "    <tr style=\"text-align: right;\">\n",
       "      <th></th>\n",
       "      <th>zipcode</th>\n",
       "      <th>date</th>\n",
       "      <th>age</th>\n",
       "      <th>gender</th>\n",
       "      <th>avgpayment</th>\n",
       "      <th>day</th>\n",
       "    </tr>\n",
       "  </thead>\n",
       "  <tbody>\n",
       "    <tr>\n",
       "      <th>1126</th>\n",
       "      <td>8012</td>\n",
       "      <td>2014-07-01</td>\n",
       "      <td>45-54</td>\n",
       "      <td>female</td>\n",
       "      <td>411.40</td>\n",
       "      <td>M</td>\n",
       "    </tr>\n",
       "    <tr>\n",
       "      <th>4361</th>\n",
       "      <td>8010</td>\n",
       "      <td>2014-07-31</td>\n",
       "      <td>45-54</td>\n",
       "      <td>female</td>\n",
       "      <td>402.06</td>\n",
       "      <td>J</td>\n",
       "    </tr>\n",
       "    <tr>\n",
       "      <th>5699</th>\n",
       "      <td>8911</td>\n",
       "      <td>2014-07-19</td>\n",
       "      <td>45-54</td>\n",
       "      <td>female</td>\n",
       "      <td>387.01</td>\n",
       "      <td>S</td>\n",
       "    </tr>\n",
       "    <tr>\n",
       "      <th>6812</th>\n",
       "      <td>8007</td>\n",
       "      <td>2014-07-02</td>\n",
       "      <td>55-64</td>\n",
       "      <td>female</td>\n",
       "      <td>375.16</td>\n",
       "      <td>X</td>\n",
       "    </tr>\n",
       "    <tr>\n",
       "      <th>5458</th>\n",
       "      <td>8008</td>\n",
       "      <td>2014-07-19</td>\n",
       "      <td>35-44</td>\n",
       "      <td>female</td>\n",
       "      <td>369.48</td>\n",
       "      <td>S</td>\n",
       "    </tr>\n",
       "  </tbody>\n",
       "</table>\n",
       "</div>"
      ],
      "text/plain": [
       "      zipcode        date    age  gender  avgpayment day\n",
       "1126     8012  2014-07-01  45-54  female      411.40   M\n",
       "4361     8010  2014-07-31  45-54  female      402.06   J\n",
       "5699     8911  2014-07-19  45-54  female      387.01   S\n",
       "6812     8007  2014-07-02  55-64  female      375.16   X\n",
       "5458     8008  2014-07-19  35-44  female      369.48   S"
      ]
     },
     "execution_count": 6,
     "metadata": {},
     "output_type": "execute_result"
    }
   ],
   "source": [
    "#Let's see now the top 10 avgpayment by fashion's category and some other interesting facts. \n",
    "\n",
    "top_fashion= fashion.sort(columns='avgpayment', ascending= False)\n",
    "\n",
    "print 'Top 10 average payment: '\n",
    "\n",
    "top_fashion.head()\n"
   ]
  },
  {
   "cell_type": "code",
   "execution_count": 7,
   "metadata": {
    "collapsed": false
   },
   "outputs": [
    {
     "name": "stdout",
     "output_type": "stream",
     "text": [
      "min:  8.13\n",
      "mean: 41.9882793309\n",
      "median: 37.09\n",
      "max: 411.4\n"
     ]
    }
   ],
   "source": [
    "print 'min: ', np.min(fashion['avgpayment'])\n",
    "print 'mean:', np.mean(fashion['avgpayment'])\n",
    "print 'median:',np.median(fashion['avgpayment'])\n",
    "print 'max:', np.max(fashion['avgpayment'])"
   ]
  },
  {
   "cell_type": "code",
   "execution_count": 8,
   "metadata": {
    "collapsed": false
   },
   "outputs": [],
   "source": [
    "#Transforming categorical variables into \"numerical\" variables\n",
    "\n",
    "dic= {'female':0, 'male':1}\n",
    "\n",
    "dict2= {'<25':1, '25-34':2,'35-44':3, '45-54':4,'55-64':5, '>=65':6}\n",
    "\n",
    "dict3= {'L':1, 'M':2, 'X':3, 'V':4, 'J':5, 'S':6, 'D':7}"
   ]
  },
  {
   "cell_type": "code",
   "execution_count": 9,
   "metadata": {
    "collapsed": false
   },
   "outputs": [
    {
     "data": {
      "text/html": [
       "<div style=\"max-height:1000px;max-width:1500px;overflow:auto;\">\n",
       "<table border=\"1\" class=\"dataframe\">\n",
       "  <thead>\n",
       "    <tr style=\"text-align: right;\">\n",
       "      <th></th>\n",
       "      <th>zipcode</th>\n",
       "      <th>date</th>\n",
       "      <th>age</th>\n",
       "      <th>gender</th>\n",
       "      <th>avgpayment</th>\n",
       "      <th>day</th>\n",
       "    </tr>\n",
       "  </thead>\n",
       "  <tbody>\n",
       "    <tr>\n",
       "      <th>0</th>\n",
       "      <td>8002</td>\n",
       "      <td>2014-07-04</td>\n",
       "      <td>3</td>\n",
       "      <td>1</td>\n",
       "      <td>44.89</td>\n",
       "      <td>4</td>\n",
       "    </tr>\n",
       "    <tr>\n",
       "      <th>1</th>\n",
       "      <td>8001</td>\n",
       "      <td>2014-07-04</td>\n",
       "      <td>2</td>\n",
       "      <td>1</td>\n",
       "      <td>35.48</td>\n",
       "      <td>4</td>\n",
       "    </tr>\n",
       "    <tr>\n",
       "      <th>2</th>\n",
       "      <td>8002</td>\n",
       "      <td>2014-07-04</td>\n",
       "      <td>2</td>\n",
       "      <td>1</td>\n",
       "      <td>57.45</td>\n",
       "      <td>4</td>\n",
       "    </tr>\n",
       "    <tr>\n",
       "      <th>3</th>\n",
       "      <td>8002</td>\n",
       "      <td>2014-07-04</td>\n",
       "      <td>2</td>\n",
       "      <td>1</td>\n",
       "      <td>31.40</td>\n",
       "      <td>4</td>\n",
       "    </tr>\n",
       "    <tr>\n",
       "      <th>4</th>\n",
       "      <td>8002</td>\n",
       "      <td>2014-07-04</td>\n",
       "      <td>2</td>\n",
       "      <td>0</td>\n",
       "      <td>56.15</td>\n",
       "      <td>4</td>\n",
       "    </tr>\n",
       "  </tbody>\n",
       "</table>\n",
       "</div>"
      ],
      "text/plain": [
       "   zipcode        date  age  gender  avgpayment  day\n",
       "0     8002  2014-07-04    3       1       44.89    4\n",
       "1     8001  2014-07-04    2       1       35.48    4\n",
       "2     8002  2014-07-04    2       1       57.45    4\n",
       "3     8002  2014-07-04    2       1       31.40    4\n",
       "4     8002  2014-07-04    2       0       56.15    4"
      ]
     },
     "execution_count": 9,
     "metadata": {},
     "output_type": "execute_result"
    }
   ],
   "source": [
    "fashion['gender'] = fashion.gender.map(dic)\n",
    "\n",
    "fashion['age'] = fashion.age.map(dict2)\n",
    "\n",
    "fashion['day'] = fashion.day.map(dict3)\n",
    "\n",
    "fashion.head(5)\n"
   ]
  },
  {
   "cell_type": "code",
   "execution_count": 10,
   "metadata": {
    "collapsed": true
   },
   "outputs": [],
   "source": [
    "#### fashion.to_csv(\"fashion\", sep='\\t',decimal='.', index=True)"
   ]
  },
  {
   "cell_type": "markdown",
   "metadata": {},
   "source": [
    "## 2. REGRESSION MODELS"
   ]
  },
  {
   "cell_type": "markdown",
   "metadata": {},
   "source": [
    "### 2.1 DECISIONTREE REGRESSION"
   ]
  },
  {
   "cell_type": "code",
   "execution_count": 11,
   "metadata": {
    "collapsed": false
   },
   "outputs": [],
   "source": [
    "#Now we will create our feature matrix and our \"y\" target.\n",
    "data= fashion.reindex(columns=['zipcode','gender','age','day']) #feature matrix\n",
    "fashion.target= fashion.reindex(columns=['avgpayment']) #y"
   ]
  },
  {
   "cell_type": "code",
   "execution_count": 12,
   "metadata": {
    "collapsed": false
   },
   "outputs": [
    {
     "name": "stdout",
     "output_type": "stream",
     "text": [
      "(8549, 4) (8549, 1)\n"
     ]
    }
   ],
   "source": [
    "X,y = data, fashion.target\n",
    "print X.shape, y.shape"
   ]
  },
  {
   "cell_type": "code",
   "execution_count": 13,
   "metadata": {
    "collapsed": false
   },
   "outputs": [
    {
     "data": {
      "text/plain": [
       "DecisionTreeRegressor(criterion='mse', max_depth=21, max_features=None,\n",
       "           max_leaf_nodes=None, min_samples_leaf=1, min_samples_split=2,\n",
       "           min_weight_fraction_leaf=0.0, random_state=None,\n",
       "           splitter='best')"
      ]
     },
     "execution_count": 13,
     "metadata": {},
     "output_type": "execute_result"
    }
   ],
   "source": [
    "#Fit regression model\n",
    "\n",
    "clf_1 = DecisionTreeRegressor(max_depth=10) \n",
    "clf_2 = DecisionTreeRegressor(max_depth=21)\n",
    "clf_1.fit(X, np.ravel(y))\n",
    "clf_2.fit(X, np.ravel(y))\n"
   ]
  },
  {
   "cell_type": "code",
   "execution_count": 14,
   "metadata": {
    "collapsed": false
   },
   "outputs": [
    {
     "name": "stdout",
     "output_type": "stream",
     "text": [
      "avgpayment    411.4\n",
      "dtype: float64 avgpayment    8.13\n",
      "dtype: float64 avgpayment    41.988279\n",
      "dtype: float64 37.09\n"
     ]
    }
   ],
   "source": [
    "print np.max(fashion.target), np.min(fashion.target), np.mean(fashion.target), np.median(fashion.target)"
   ]
  },
  {
   "cell_type": "code",
   "execution_count": 15,
   "metadata": {
    "collapsed": false
   },
   "outputs": [
    {
     "name": "stdout",
     "output_type": "stream",
     "text": [
      "0.29490115927\n",
      "0.36732869937\n"
     ]
    }
   ],
   "source": [
    "print clf_1.score(data, fashion.target) \n",
    "print clf_2.score(data, fashion.target) "
   ]
  },
  {
   "cell_type": "markdown",
   "metadata": {},
   "source": [
    "\n",
    "\n",
    "\n"
   ]
  },
  {
   "cell_type": "code",
   "execution_count": 17,
   "metadata": {
    "collapsed": false
   },
   "outputs": [
    {
     "name": "stdout",
     "output_type": "stream",
     "text": [
      "Write your destination zipcode in here: \n",
      "8001\n",
      "If you are Female press 0, if not press 1, otherwise choose whatever you want:\n",
      "1\n",
      "Select your age interval, where...\n",
      "1: <25, 2: 25-34 , 3: 35-44 , 4: 45-54, 5: 55-64 , 6: >=65 \n",
      "4\n",
      "Select the day of the week you want to go shopping (from 1 to 7), where 1= Monday to 7= sunday\n",
      "5\n"
     ]
    }
   ],
   "source": [
    "print 'Write your destination zipcode in here: ' \n",
    "z= input()\n",
    "\n",
    "print 'If you are Female press 0, if not press 1, otherwise choose whatever you want:' \n",
    "g= input()\n",
    "\n",
    "print 'Select your age interval, where...' \n",
    "print '1: <25, 2: 25-34 , 3: 35-44 , 4: 45-54, 5: 55-64 , 6: >=65 ' \n",
    "a= input()\n",
    "\n",
    "print 'Select the day of the week you want to go shopping (from 1 to 7), where 1= Monday to 7= sunday' \n",
    "d= input()\n",
    "\n"
   ]
  },
  {
   "cell_type": "code",
   "execution_count": 18,
   "metadata": {
    "collapsed": false
   },
   "outputs": [
    {
     "name": "stdout",
     "output_type": "stream",
     "text": [
      "[8001, 1, 4, 5]\n"
     ]
    }
   ],
   "source": [
    "result= [z,g,a,d]\n",
    "print result"
   ]
  },
  {
   "cell_type": "code",
   "execution_count": 19,
   "metadata": {
    "collapsed": false
   },
   "outputs": [
    {
     "name": "stdout",
     "output_type": "stream",
     "text": [
      "[ 46.77454545]\n",
      "[ 45.83]\n"
     ]
    }
   ],
   "source": [
    "# Predict\n",
    "print clf_1.predict(result)\n",
    "print clf_2.predict(result)"
   ]
  },
  {
   "cell_type": "code",
   "execution_count": 20,
   "metadata": {
    "collapsed": false
   },
   "outputs": [
    {
     "name": "stdout",
     "output_type": "stream",
     "text": [
      "DT with depth = 10 : [ 37.47917563]\n",
      "DT with depth = 21 : [ 26.29]\n"
     ]
    }
   ],
   "source": [
    "#We can observe how the same sample profile but diferent depth lead to different results:\n",
    "\n",
    "print 'DT with depth = 10 :',clf_1.predict([8034,0,1,5]) \n",
    "print 'DT with depth = 21 :', clf_2.predict([8034,0,1,5]) "
   ]
  },
  {
   "cell_type": "code",
   "execution_count": 21,
   "metadata": {
    "collapsed": false
   },
   "outputs": [
    {
     "name": "stdout",
     "output_type": "stream",
     "text": [
      "[ 46.64538462  43.35621212  43.35621212 ...,  41.66110778  41.66110778\n",
      "  41.66110778]\n",
      "[ 46.64538462  35.48        39.85285714 ...,  46.65428571  46.0056      46.0056    ]\n"
     ]
    }
   ],
   "source": [
    "# Predicting all our df trained \n",
    "\n",
    "X_test = data\n",
    "\n",
    "y_1 = clf_1.predict(X_test)\n",
    "\n",
    "y_2 = clf_2.predict(X_test)\n",
    "\n",
    "print y_1\n",
    "\n",
    "print y_2\n"
   ]
  },
  {
   "cell_type": "code",
   "execution_count": 22,
   "metadata": {
    "collapsed": false
   },
   "outputs": [
    {
     "name": "stdout",
     "output_type": "stream",
     "text": [
      "Coefficient of determination clf_1:0.295 \n",
      "\n",
      "Coefficient of determination clf_2:0.367 \n",
      "\n"
     ]
    }
   ],
   "source": [
    "#Scores\n",
    "\n",
    "from sklearn import metrics\n",
    "\n",
    "y_pred=clf_1.predict(X)\n",
    "y_pred2=clf_2.predict(X)\n",
    "\n",
    "print \"Coefficient of determination clf_1:{0:.3f}\".format(metrics.r2_score(y,y_pred)),\"\\n\"\n",
    "print \"Coefficient of determination clf_2:{0:.3f}\".format(metrics.r2_score(y,y_pred2)),\"\\n\""
   ]
  },
  {
   "cell_type": "markdown",
   "metadata": {},
   "source": [
    "### 2.2 RANDOM FOREST REGRESSION"
   ]
  },
  {
   "cell_type": "code",
   "execution_count": 37,
   "metadata": {
    "collapsed": false
   },
   "outputs": [
    {
     "data": {
      "text/plain": [
       "RandomForestRegressor(bootstrap=True, criterion='mse', max_depth=None,\n",
       "           max_features='auto', max_leaf_nodes=None, min_samples_leaf=1,\n",
       "           min_samples_split=2, min_weight_fraction_leaf=0.0,\n",
       "           n_estimators=100, n_jobs=1, oob_score=False, random_state=None,\n",
       "           verbose=0, warm_start=False)"
      ]
     },
     "execution_count": 37,
     "metadata": {},
     "output_type": "execute_result"
    }
   ],
   "source": [
    "from sklearn.ensemble.forest import RandomForestRegressor\n",
    "\n",
    "#Fitting our RANDOM FOREST REGRESSION\n",
    "\n",
    "rf = RandomForestRegressor(bootstrap=True, criterion='mse', max_depth=None,\n",
    "           max_features='auto', max_leaf_nodes=None, min_samples_leaf=1,\n",
    "           min_samples_split=2,n_estimators=100)\n",
    "\n",
    "rf.fit(X, np.ravel(y))\n",
    "\n"
   ]
  },
  {
   "cell_type": "code",
   "execution_count": 38,
   "metadata": {
    "collapsed": false
   },
   "outputs": [
    {
     "name": "stdout",
     "output_type": "stream",
     "text": [
      "Coefficient of determination rf regression: 0.3548\n"
     ]
    }
   ],
   "source": [
    "print \"Coefficient of determination rf regression:\", round(rf.score(data, fashion.target) ,4)"
   ]
  },
  {
   "cell_type": "code",
   "execution_count": 26,
   "metadata": {
    "collapsed": false
   },
   "outputs": [
    {
     "name": "stdout",
     "output_type": "stream",
     "text": [
      "Write your destination zipcode in here: \n",
      "8001\n",
      "If you are Female press 0, if not press 1, otherwise choose whatever you want:\n",
      "1\n",
      "Select your age interval, where...\n",
      "1: <25:, 2: 25-34 , 3: 35-44 , 4: 45-54, 5: 55-64 , 6: >=65 \n",
      "4\n",
      "Select the day of the week you want to go shopping (from 1 to 7)\n",
      "5\n",
      "\t\n",
      "Your avgpayment is: 46.48\n"
     ]
    }
   ],
   "source": [
    "print 'Write your destination zipcode in here: '  \n",
    "z= input()\n",
    "\n",
    "print 'If you are Female press 0, if not press 1, otherwise choose whatever you want:' \n",
    "g= input()\n",
    "\n",
    "print 'Select your age interval, where...' \n",
    "print '1: <25:, 2: 25-34 , 3: 35-44 , 4: 45-54, 5: 55-64 , 6: >=65 '\n",
    "a= input()\n",
    "\n",
    "print 'Select the day of the week you want to go shopping (from 1 to 7)' \n",
    "d= input()\n",
    "\n",
    "result= [z,g,a,d]\n",
    "\n",
    "print '\\t'\n",
    "\n",
    "print 'Your avgpayment is:', round(rf.predict(result),2)"
   ]
  },
  {
   "cell_type": "code",
   "execution_count": 32,
   "metadata": {
    "collapsed": false
   },
   "outputs": [
    {
     "name": "stdout",
     "output_type": "stream",
     "text": [
      "Custom data Example with both methods:\n",
      "36.67 Best DecisionTree\n",
      "47.08 Best RandomForest\n"
     ]
    }
   ],
   "source": [
    "print 'Custom data Example with both methods:' \n",
    "\n",
    "print round(clf_2.predict([17032,0,3,5]),2), 'Best DecisionTree' \n",
    "\n",
    "print round(rf.predict([17032,0,3,5]),2), 'Best RandomForest'\n",
    "\n"
   ]
  },
  {
   "cell_type": "markdown",
   "metadata": {},
   "source": [
    "###2.3 CROSS VALIDATION DECISIONTREE/RANDOMFOREST REGRESSORS"
   ]
  },
  {
   "cell_type": "code",
   "execution_count": 33,
   "metadata": {
    "collapsed": false
   },
   "outputs": [
    {
     "name": "stdout",
     "output_type": "stream",
     "text": [
      "Feature Matrix (X): (8549, 4) // Target (Y): (8549,)\n",
      "\t\n",
      "TRAIN SHAPE--> X: (2564, 4) // Y: (2564,)\n",
      "TEST SHAPE--> X: (5985, 4) // Y: (5985,)\n"
     ]
    }
   ],
   "source": [
    "from sklearn.cross_validation import train_test_split\n",
    "from sklearn import metrics\n",
    "from sklearn.utils import shuffle\n",
    "\n",
    "X,y = data, np.ravel(fashion.target)\n",
    "print 'Feature Matrix (X):', X.shape,'//', 'Target (Y):',y.shape\n",
    "\n",
    "X_train, X_test, y_train, y_test = train_test_split(X, y, test_size=0.70, random_state=33)\n",
    "print '\\t'\n",
    "\n",
    "print 'TRAIN SHAPE-->', 'X:', X_train.shape,'//', 'Y:', y_train.shape #(modelo lineal con 4 variables)\n",
    "print 'TEST SHAPE-->', 'X:',X_test.shape,'//','Y:', y_test.shape"
   ]
  },
  {
   "cell_type": "code",
   "execution_count": 36,
   "metadata": {
    "collapsed": false
   },
   "outputs": [
    {
     "name": "stdout",
     "output_type": "stream",
     "text": [
      "DECISION TREE REGRESSION: \n",
      "\n",
      "Test Score: -0.2688\n",
      "Train Score: 0.5897\n",
      "\t\n",
      "Training MSE:  217.25\n",
      "Test MSE:  617.38\n",
      "\t\n",
      "RANDOM FOREST REGRESSION: \n",
      "\n",
      "Test Score: 0.3336\n",
      "Train Score: 0.4032\n",
      "\t\n",
      "Training MSE:  316.06\n",
      "Test MSE:  324.25\n"
     ]
    }
   ],
   "source": [
    "DT = clf_2\n",
    "\n",
    "DT.fit(X_train, y_train)\n",
    "\n",
    "# Best possible score is 1.0, lower values are worse.\n",
    "\n",
    "print 'DECISION TREE REGRESSION:',\"\\n\"\n",
    "\n",
    "print 'Test Score:', round(DT.score(X_test, y_test),4)\n",
    "print 'Train Score:', round(DT.score(X_train, y_train),4) \n",
    "\n",
    "print '\\t'\n",
    "print 'Training MSE: ', round(np.mean((DT.predict(X_train) - y_train)**2),2)\n",
    "print 'Test MSE: ', round(np.mean((DT.predict(X_test) - y_test)**2),2)\n",
    "\n",
    "print '\\t'\n",
    "\n",
    "print 'RANDOM FOREST REGRESSION:',\"\\n\"\n",
    "print 'Test Score:', round(rf.score(X_test, y_test),4)\n",
    "print 'Train Score:', round(rf.score(X_train, y_train),4)\n",
    "print '\\t'                          \n",
    "print 'Training MSE: ', round(np.mean((rf.predict(X_train) - y_train)**2),2)\n",
    "print 'Test MSE: ', round(np.mean((rf.predict(X_test) - y_test)**2),2)"
   ]
  },
  {
   "cell_type": "markdown",
   "metadata": {},
   "source": [
    "##3. CLASSIFICATION METHODS"
   ]
  },
  {
   "cell_type": "markdown",
   "metadata": {},
   "source": [
    "### 3.1 DECISION TREE CLASSIFIER"
   ]
  },
  {
   "cell_type": "code",
   "execution_count": 40,
   "metadata": {
    "collapsed": false
   },
   "outputs": [],
   "source": [
    "#Reset workspace*\n",
    "%reset -f"
   ]
  },
  {
   "cell_type": "code",
   "execution_count": 41,
   "metadata": {
    "collapsed": true
   },
   "outputs": [],
   "source": [
    "# imports\n",
    "import numpy as np\n",
    "import pandas as pd \n",
    "import matplotlib.pyplot as plt\n",
    "import matplotlib as mpl\n",
    "import seaborn as sns\n",
    "from scipy.stats import kde\n",
    "from scipy import stats\n",
    "\n",
    "# this allows plots to appear directly in the notebook\n",
    "%matplotlib inline \n",
    "\n",
    "#Recovering our fashion df\n",
    "fashion= pd.io.parsers.read_table('fashion',sep='\\t', index_col=0)"
   ]
  },
  {
   "cell_type": "code",
   "execution_count": 42,
   "metadata": {
    "collapsed": false
   },
   "outputs": [
    {
     "name": "stdout",
     "output_type": "stream",
     "text": [
      "min:  8.13\n",
      "mean: 41.9882793309\n",
      "median: 37.09\n",
      "max: 411.4\n"
     ]
    }
   ],
   "source": [
    "#Statistics\n",
    "print 'min: ', np.min(fashion['avgpayment'])\n",
    "print 'mean:', np.mean(fashion['avgpayment'])\n",
    "print 'median:',np.median(fashion['avgpayment'])\n",
    "print 'max:', np.max(fashion['avgpayment'])"
   ]
  },
  {
   "cell_type": "code",
   "execution_count": 43,
   "metadata": {
    "collapsed": false
   },
   "outputs": [
    {
     "name": "stdout",
     "output_type": "stream",
     "text": [
      "With the 3 sigma rule (99.73%),  we will consider the following ranges:\n",
      "[ 8.13 , 109.05 ]\n",
      "\t\n",
      "We want 3 intervals, so we will split every 36.35\n"
     ]
    }
   ],
   "source": [
    "#Defining boundaries for categorization\n",
    "\n",
    "sigma3= (np.mean(fashion['avgpayment']) + 3*np.std(fashion['avgpayment']))\n",
    "\n",
    "minim= np.min(fashion['avgpayment'])\n",
    "\n",
    "print 'With the 3 sigma rule (99.73%),  we will consider the following ranges:'\n",
    "\n",
    "print '[', minim ,',', round(sigma3,2),']'\n",
    "\n",
    "print '\\t'\n",
    "\n",
    "numcategories= 3 #We will differenciate 3 categories (Low, Medium &  High average payment)\n",
    "\n",
    "interval= round(((sigma3)/numcategories),2)\n",
    "\n",
    "print 'We want 3 intervals, so we will split every', interval"
   ]
  },
  {
   "cell_type": "code",
   "execution_count": 44,
   "metadata": {
    "collapsed": false
   },
   "outputs": [
    {
     "name": "stdout",
     "output_type": "stream",
     "text": [
      "(8416, 6)\n"
     ]
    },
    {
     "data": {
      "text/html": [
       "<div style=\"max-height:1000px;max-width:1500px;overflow:auto;\">\n",
       "<table border=\"1\" class=\"dataframe\">\n",
       "  <thead>\n",
       "    <tr style=\"text-align: right;\">\n",
       "      <th></th>\n",
       "      <th>zipcode</th>\n",
       "      <th>gender</th>\n",
       "      <th>age</th>\n",
       "      <th>day</th>\n",
       "      <th>avgpayment</th>\n",
       "      <th>clas</th>\n",
       "    </tr>\n",
       "  </thead>\n",
       "  <tbody>\n",
       "    <tr>\n",
       "      <th>0</th>\n",
       "      <td>8002</td>\n",
       "      <td>1</td>\n",
       "      <td>3</td>\n",
       "      <td>4</td>\n",
       "      <td>44.89</td>\n",
       "      <td>Medium [&gt;39 to 67 eur]</td>\n",
       "    </tr>\n",
       "    <tr>\n",
       "      <th>1</th>\n",
       "      <td>8001</td>\n",
       "      <td>1</td>\n",
       "      <td>2</td>\n",
       "      <td>4</td>\n",
       "      <td>35.48</td>\n",
       "      <td>Low [&lt;= 39 eur]</td>\n",
       "    </tr>\n",
       "    <tr>\n",
       "      <th>2</th>\n",
       "      <td>8002</td>\n",
       "      <td>1</td>\n",
       "      <td>2</td>\n",
       "      <td>4</td>\n",
       "      <td>57.45</td>\n",
       "      <td>Medium [&gt;39 to 67 eur]</td>\n",
       "    </tr>\n",
       "    <tr>\n",
       "      <th>3</th>\n",
       "      <td>8002</td>\n",
       "      <td>1</td>\n",
       "      <td>2</td>\n",
       "      <td>4</td>\n",
       "      <td>31.40</td>\n",
       "      <td>Low [&lt;= 39 eur]</td>\n",
       "    </tr>\n",
       "    <tr>\n",
       "      <th>4</th>\n",
       "      <td>8002</td>\n",
       "      <td>0</td>\n",
       "      <td>2</td>\n",
       "      <td>4</td>\n",
       "      <td>56.15</td>\n",
       "      <td>Medium [&gt;39 to 67 eur]</td>\n",
       "    </tr>\n",
       "  </tbody>\n",
       "</table>\n",
       "</div>"
      ],
      "text/plain": [
       "   zipcode  gender  age  day  avgpayment                    clas\n",
       "0     8002       1    3    4       44.89  Medium [>39 to 67 eur]\n",
       "1     8001       1    2    4       35.48         Low [<= 39 eur]\n",
       "2     8002       1    2    4       57.45  Medium [>39 to 67 eur]\n",
       "3     8002       1    2    4       31.40         Low [<= 39 eur]\n",
       "4     8002       0    2    4       56.15  Medium [>39 to 67 eur]"
      ]
     },
     "execution_count": 44,
     "metadata": {},
     "output_type": "execute_result"
    }
   ],
   "source": [
    "fashion=fashion.reindex(columns=['zipcode','gender','age','day','avgpayment','clas'])\n",
    "\n",
    "#Transforming output (y) into a class\n",
    "\n",
    "condition1= fashion['avgpayment'] <=  interval\n",
    "condition2 = (fashion['avgpayment'] > interval) & (fashion['avgpayment'] <= (interval*2))\n",
    "condition3 = (fashion['avgpayment'] > interval*2) & (fashion['avgpayment'] <= sigma3)\n",
    "condition4 = (fashion['avgpayment'] > sigma3)\n",
    "\n",
    "fashion.loc[condition1, 'clas'] = 'Low [<= 39 eur]'\n",
    "fashion.loc[condition2, 'clas'] = 'Medium [>39 to 67 eur]'\n",
    "fashion.loc[condition3, 'clas'] = 'High [>67 eur]'\n",
    "fashion.loc[condition4, 'clas'] = 'DROP'\n",
    "\n",
    "fashion= fashion[fashion.clas!='DROP']\n",
    "\n",
    "print fashion.shape\n",
    "fashion.head(5)"
   ]
  },
  {
   "cell_type": "code",
   "execution_count": 45,
   "metadata": {
    "collapsed": false
   },
   "outputs": [
    {
     "data": {
      "text/html": [
       "<div style=\"max-height:1000px;max-width:1500px;overflow:auto;\">\n",
       "<table border=\"1\" class=\"dataframe\">\n",
       "  <thead>\n",
       "    <tr style=\"text-align: right;\">\n",
       "      <th></th>\n",
       "      <th>avgpayment</th>\n",
       "      <th>clas</th>\n",
       "    </tr>\n",
       "  </thead>\n",
       "  <tbody>\n",
       "    <tr>\n",
       "      <th>0</th>\n",
       "      <td>44.89</td>\n",
       "      <td>Medium [&gt;39 to 67 eur]</td>\n",
       "    </tr>\n",
       "    <tr>\n",
       "      <th>1</th>\n",
       "      <td>35.48</td>\n",
       "      <td>Low [&lt;= 39 eur]</td>\n",
       "    </tr>\n",
       "    <tr>\n",
       "      <th>2</th>\n",
       "      <td>57.45</td>\n",
       "      <td>Medium [&gt;39 to 67 eur]</td>\n",
       "    </tr>\n",
       "    <tr>\n",
       "      <th>3</th>\n",
       "      <td>31.40</td>\n",
       "      <td>Low [&lt;= 39 eur]</td>\n",
       "    </tr>\n",
       "    <tr>\n",
       "      <th>4</th>\n",
       "      <td>56.15</td>\n",
       "      <td>Medium [&gt;39 to 67 eur]</td>\n",
       "    </tr>\n",
       "  </tbody>\n",
       "</table>\n",
       "</div>"
      ],
      "text/plain": [
       "   avgpayment                    clas\n",
       "0       44.89  Medium [>39 to 67 eur]\n",
       "1       35.48         Low [<= 39 eur]\n",
       "2       57.45  Medium [>39 to 67 eur]\n",
       "3       31.40         Low [<= 39 eur]\n",
       "4       56.15  Medium [>39 to 67 eur]"
      ]
     },
     "execution_count": 45,
     "metadata": {},
     "output_type": "execute_result"
    }
   ],
   "source": [
    "#feature matrix & target\n",
    "\n",
    "data= fashion.reindex(columns=['zipcode','gender','age','day']) #feature matrix\n",
    "\n",
    "fashion_target= fashion.reindex(columns=['avgpayment','clas']) #y\n",
    "\n",
    "fashion_target.head()"
   ]
  },
  {
   "cell_type": "code",
   "execution_count": 46,
   "metadata": {
    "collapsed": false
   },
   "outputs": [
    {
     "name": "stdout",
     "output_type": "stream",
     "text": [
      "Low: (4098, 2)\n",
      "Medium: (3925, 2)\n",
      "High: (393, 2)\n",
      "Total: (8416, 4)\n",
      "\t\n",
      "Low coef: 0.4869\n",
      "Medium coef: 0.4664\n",
      "High coef:  0.0467\n"
     ]
    }
   ],
   "source": [
    "l= fashion_target\n",
    "\n",
    "low = l[(l['avgpayment']<= interval)]\n",
    "medium = l[(l['avgpayment']>interval) & (l['avgpayment']<=2*interval)]\n",
    "high = l[(l['avgpayment']>2*interval)]\n",
    "\n",
    "print 'Low:', low.shape\n",
    "print 'Medium:', medium.shape\n",
    "print 'High:', high.shape\n",
    "\n",
    "\n",
    "print 'Total:', data.shape\n",
    "\n",
    "coeflow= float(len(low)) / float(len(fashion))\n",
    "\n",
    "coefmedium= float(len(medium)) / float(len(fashion))\n",
    "\n",
    "coefhigh= float(len(high)) / float(len(fashion))\n",
    "\n",
    "print '\\t'\n",
    "\n",
    "print 'Low coef:', round (coeflow,4)\n",
    "print 'Medium coef:', round (coefmedium,4)\n",
    "print 'High coef: ', round(coefhigh,4)\n"
   ]
  },
  {
   "cell_type": "code",
   "execution_count": 47,
   "metadata": {
    "collapsed": false
   },
   "outputs": [
    {
     "data": {
      "text/html": [
       "<div style=\"max-height:1000px;max-width:1500px;overflow:auto;\">\n",
       "<table border=\"1\" class=\"dataframe\">\n",
       "  <thead>\n",
       "    <tr style=\"text-align: right;\">\n",
       "      <th></th>\n",
       "      <th>clas</th>\n",
       "    </tr>\n",
       "  </thead>\n",
       "  <tbody>\n",
       "    <tr>\n",
       "      <th>0</th>\n",
       "      <td>Medium [&gt;39 to 67 eur]</td>\n",
       "    </tr>\n",
       "    <tr>\n",
       "      <th>1</th>\n",
       "      <td>Low [&lt;= 39 eur]</td>\n",
       "    </tr>\n",
       "    <tr>\n",
       "      <th>2</th>\n",
       "      <td>Medium [&gt;39 to 67 eur]</td>\n",
       "    </tr>\n",
       "    <tr>\n",
       "      <th>3</th>\n",
       "      <td>Low [&lt;= 39 eur]</td>\n",
       "    </tr>\n",
       "    <tr>\n",
       "      <th>4</th>\n",
       "      <td>Medium [&gt;39 to 67 eur]</td>\n",
       "    </tr>\n",
       "  </tbody>\n",
       "</table>\n",
       "</div>"
      ],
      "text/plain": [
       "                     clas\n",
       "0  Medium [>39 to 67 eur]\n",
       "1         Low [<= 39 eur]\n",
       "2  Medium [>39 to 67 eur]\n",
       "3         Low [<= 39 eur]\n",
       "4  Medium [>39 to 67 eur]"
      ]
     },
     "execution_count": 47,
     "metadata": {},
     "output_type": "execute_result"
    }
   ],
   "source": [
    "# we dont need numbers since we have already split it in categories\n",
    "\n",
    "fashion_class= fashion_target.drop('avgpayment', 1) #Drop numeric column\n",
    "\n",
    "fashion_class.head() # y by categories\n"
   ]
  },
  {
   "cell_type": "code",
   "execution_count": 48,
   "metadata": {
    "collapsed": false
   },
   "outputs": [
    {
     "data": {
      "text/html": [
       "<div style=\"max-height:1000px;max-width:1500px;overflow:auto;\">\n",
       "<table border=\"1\" class=\"dataframe\">\n",
       "  <thead>\n",
       "    <tr style=\"text-align: right;\">\n",
       "      <th></th>\n",
       "      <th>zipcode</th>\n",
       "      <th>gender</th>\n",
       "      <th>age</th>\n",
       "      <th>day</th>\n",
       "    </tr>\n",
       "  </thead>\n",
       "  <tbody>\n",
       "    <tr>\n",
       "      <th>0</th>\n",
       "      <td>8002</td>\n",
       "      <td>1</td>\n",
       "      <td>3</td>\n",
       "      <td>4</td>\n",
       "    </tr>\n",
       "    <tr>\n",
       "      <th>1</th>\n",
       "      <td>8001</td>\n",
       "      <td>1</td>\n",
       "      <td>2</td>\n",
       "      <td>4</td>\n",
       "    </tr>\n",
       "    <tr>\n",
       "      <th>2</th>\n",
       "      <td>8002</td>\n",
       "      <td>1</td>\n",
       "      <td>2</td>\n",
       "      <td>4</td>\n",
       "    </tr>\n",
       "    <tr>\n",
       "      <th>3</th>\n",
       "      <td>8002</td>\n",
       "      <td>1</td>\n",
       "      <td>2</td>\n",
       "      <td>4</td>\n",
       "    </tr>\n",
       "    <tr>\n",
       "      <th>4</th>\n",
       "      <td>8002</td>\n",
       "      <td>0</td>\n",
       "      <td>2</td>\n",
       "      <td>4</td>\n",
       "    </tr>\n",
       "  </tbody>\n",
       "</table>\n",
       "</div>"
      ],
      "text/plain": [
       "   zipcode  gender  age  day\n",
       "0     8002       1    3    4\n",
       "1     8001       1    2    4\n",
       "2     8002       1    2    4\n",
       "3     8002       1    2    4\n",
       "4     8002       0    2    4"
      ]
     },
     "execution_count": 48,
     "metadata": {},
     "output_type": "execute_result"
    }
   ],
   "source": [
    "data.head() #our X categorical variables "
   ]
  },
  {
   "cell_type": "code",
   "execution_count": 49,
   "metadata": {
    "collapsed": false
   },
   "outputs": [
    {
     "name": "stderr",
     "output_type": "stream",
     "text": [
      ":0: FutureWarning: IPython widgets are experimental and may change in the future.\n"
     ]
    }
   ],
   "source": [
    "from IPython.html.widgets import interact\n",
    "from sklearn import metrics\n",
    "\n",
    "#fitting\n",
    "from sklearn import tree\n",
    "\n",
    "X = data\n",
    "y = fashion_class\n",
    "clf = tree.DecisionTreeClassifier()\n",
    "clf_dt = clf.fit(X, np.ravel(y))\n"
   ]
  },
  {
   "cell_type": "code",
   "execution_count": 50,
   "metadata": {
    "collapsed": false
   },
   "outputs": [
    {
     "name": "stdout",
     "output_type": "stream",
     "text": [
      "Write your destination zipcode in here: \n",
      "8001\n",
      "If you are Female press 0, if not press 1, otherwise choose whatever you want:\n",
      "0\n",
      "Select your age interval, where...\n",
      "1: <25, 2: 25-34 , 3: 35-44 , 4: 45-54, 5: 55-64 , 6: >=65 \n",
      "5\n",
      "Select the day of the week you want to go shopping (from 1 to 7)\n",
      "1\n"
     ]
    }
   ],
   "source": [
    "print 'Write your destination zipcode in here: ' \n",
    "z= input()\n",
    "\n",
    "print 'If you are Female press 0, if not press 1, otherwise choose whatever you want:' \n",
    "g= input()\n",
    "\n",
    "print 'Select your age interval, where...' \n",
    "print '1: <25, 2: 25-34 , 3: 35-44 , 4: 45-54, 5: 55-64 , 6: >=65 ' \n",
    "a= input()\n",
    "\n",
    "print 'Select the day of the week you want to go shopping (from 1 to 7)' \n",
    "d= input()\n"
   ]
  },
  {
   "cell_type": "code",
   "execution_count": 51,
   "metadata": {
    "collapsed": false
   },
   "outputs": [
    {
     "name": "stdout",
     "output_type": "stream",
     "text": [
      "Your average payment is: ['Medium [>39 to 67 eur]'] 08001 --> Raval\n",
      "The profile compared to you has an average payment: ['High [>67 eur]'] 08032 --> Sarria\n"
     ]
    }
   ],
   "source": [
    "# Predict \n",
    "result= [z,g,a,d]\n",
    "\n",
    "you= clf_dt.predict(result) \n",
    "\n",
    "against= clf_dt.predict([8034,0,5,1]) \n",
    "\n",
    "print 'Your average payment is:', you, '08001 --> Raval'\n",
    "\n",
    "print 'The profile compared to you has an average payment:', against, '08032 --> Sarria'\n"
   ]
  },
  {
   "cell_type": "code",
   "execution_count": 52,
   "metadata": {
    "collapsed": false
   },
   "outputs": [
    {
     "name": "stdout",
     "output_type": "stream",
     "text": [
      "0.6724 --> DECISIONTREE SCORE\n"
     ]
    }
   ],
   "source": [
    "score1= clf_dt.score(data,np.ravel(fashion_class))\n",
    "\n",
    "print round(score1,4), '--> DECISIONTREE SCORE'"
   ]
  },
  {
   "cell_type": "code",
   "execution_count": 53,
   "metadata": {
    "collapsed": false
   },
   "outputs": [
    {
     "data": {
      "text/plain": [
       "32512"
      ]
     },
     "execution_count": 53,
     "metadata": {},
     "output_type": "execute_result"
    }
   ],
   "source": [
    "#Export Tree\n",
    "import os\n",
    "dotfile = tree.export_graphviz(clf_dt, out_file = \"fashiontree.dot\")\n",
    "\n",
    "os.system(\"dot -Tpng fashiontree.dot -o fashiontree.png\")"
   ]
  },
  {
   "cell_type": "code",
   "execution_count": 54,
   "metadata": {
    "collapsed": false
   },
   "outputs": [
    {
     "data": {
      "image/png": "[encoded data removed]",
      "text/plain": [
       "<IPython.core.display.Image object>"
      ]
     },
     "execution_count": 54,
     "metadata": {},
     "output_type": "execute_result"
    }
   ],
   "source": [
    "from IPython.core.display import Image\n",
    "Image(\"fashiontree.png\")"
   ]
  },
  {
   "cell_type": "markdown",
   "metadata": {
    "collapsed": true
   },
   "source": [
    "#### Before considering any cross validation,  we will create another predictor based on Random Forest algorithm and we will compare them"
   ]
  },
  {
   "cell_type": "markdown",
   "metadata": {},
   "source": [
    "### 3.2 RANDOM FOREST CLASSIFIER"
   ]
  },
  {
   "cell_type": "code",
   "execution_count": 55,
   "metadata": {
    "collapsed": false
   },
   "outputs": [
    {
     "data": {
      "text/plain": [
       "RandomForestClassifier(bootstrap=True, class_weight=None, criterion='gini',\n",
       "            max_depth=None, max_features='auto', max_leaf_nodes=None,\n",
       "            min_samples_leaf=1, min_samples_split=2,\n",
       "            min_weight_fraction_leaf=0.0, n_estimators=20, n_jobs=1,\n",
       "            oob_score=False, random_state=None, verbose=0,\n",
       "            warm_start=False)"
      ]
     },
     "execution_count": 55,
     "metadata": {},
     "output_type": "execute_result"
    }
   ],
   "source": [
    "from sklearn.ensemble.forest import RandomForestClassifier\n",
    "\n",
    "#Fitting our RANDOM FOREST REGRESSION\n",
    "\n",
    "clf_rf = RandomForestClassifier(bootstrap=True, max_depth=None,\n",
    "           max_features='auto', max_leaf_nodes=None, min_samples_leaf=1,\n",
    "           min_samples_split=2,n_estimators=20)\n",
    "\n",
    "clf_rf.fit(X, np.ravel(y))\n",
    "\n"
   ]
  },
  {
   "cell_type": "code",
   "execution_count": 56,
   "metadata": {
    "collapsed": false
   },
   "outputs": [
    {
     "name": "stdout",
     "output_type": "stream",
     "text": [
      "Your average payment is: ['Medium [>39 to 67 eur]']\n",
      "The profile compared to you has an average payment: ['Low [<= 39 eur]']\n"
     ]
    }
   ],
   "source": [
    "# Predict\n",
    "result= [z,g,a,d]\n",
    "\n",
    "you= clf_rf .predict(result) \n",
    "\n",
    "against= clf_rf .predict([8040,0,2,5]) \n",
    "\n",
    "print 'Your average payment is:', you\n",
    "\n",
    "print 'The profile compared to you has an average payment:', against"
   ]
  },
  {
   "cell_type": "code",
   "execution_count": 57,
   "metadata": {
    "collapsed": false
   },
   "outputs": [
    {
     "name": "stdout",
     "output_type": "stream",
     "text": [
      "0.6724 --> DECISIONTREE SCORE\n",
      "0.6711 --> RANDOM FOREST SCORE\n"
     ]
    }
   ],
   "source": [
    "score2= clf_rf.score(data,fashion_class)\n",
    "\n",
    "print round(score1,4), '--> DECISIONTREE SCORE'\n",
    "print round(score2,4), '--> RANDOM FOREST SCORE'"
   ]
  },
  {
   "cell_type": "markdown",
   "metadata": {},
   "source": [
    "### 3.3 CROSS VALIDATION DECISIONTREE & RANDOM FOREST"
   ]
  },
  {
   "cell_type": "code",
   "execution_count": 58,
   "metadata": {
    "collapsed": false,
    "scrolled": true
   },
   "outputs": [],
   "source": [
    "from sklearn import *\n"
   ]
  },
  {
   "cell_type": "code",
   "execution_count": 59,
   "metadata": {
    "collapsed": false
   },
   "outputs": [
    {
     "data": {
      "text/html": [
       "<div style=\"max-height:1000px;max-width:1500px;overflow:auto;\">\n",
       "<table border=\"1\" class=\"dataframe\">\n",
       "  <thead>\n",
       "    <tr style=\"text-align: right;\">\n",
       "      <th></th>\n",
       "      <th>zipcode</th>\n",
       "      <th>gender</th>\n",
       "      <th>age</th>\n",
       "      <th>day</th>\n",
       "    </tr>\n",
       "  </thead>\n",
       "  <tbody>\n",
       "    <tr>\n",
       "      <th>0</th>\n",
       "      <td>8002</td>\n",
       "      <td>1</td>\n",
       "      <td>3</td>\n",
       "      <td>4</td>\n",
       "    </tr>\n",
       "    <tr>\n",
       "      <th>1</th>\n",
       "      <td>8001</td>\n",
       "      <td>1</td>\n",
       "      <td>2</td>\n",
       "      <td>4</td>\n",
       "    </tr>\n",
       "    <tr>\n",
       "      <th>2</th>\n",
       "      <td>8002</td>\n",
       "      <td>1</td>\n",
       "      <td>2</td>\n",
       "      <td>4</td>\n",
       "    </tr>\n",
       "    <tr>\n",
       "      <th>3</th>\n",
       "      <td>8002</td>\n",
       "      <td>1</td>\n",
       "      <td>2</td>\n",
       "      <td>4</td>\n",
       "    </tr>\n",
       "    <tr>\n",
       "      <th>4</th>\n",
       "      <td>8002</td>\n",
       "      <td>0</td>\n",
       "      <td>2</td>\n",
       "      <td>4</td>\n",
       "    </tr>\n",
       "  </tbody>\n",
       "</table>\n",
       "</div>"
      ],
      "text/plain": [
       "   zipcode  gender  age  day\n",
       "0     8002       1    3    4\n",
       "1     8001       1    2    4\n",
       "2     8002       1    2    4\n",
       "3     8002       1    2    4\n",
       "4     8002       0    2    4"
      ]
     },
     "execution_count": 59,
     "metadata": {},
     "output_type": "execute_result"
    }
   ],
   "source": [
    "#feature matrix & target\n",
    "\n",
    "data= fashion.reindex(columns=['zipcode','gender','age','day']) #feature matrix\n",
    "\n",
    "data.head()"
   ]
  },
  {
   "cell_type": "code",
   "execution_count": 60,
   "metadata": {
    "collapsed": false
   },
   "outputs": [],
   "source": [
    "#We are gonna split Train & Tests\n",
    "from sklearn.cross_validation import train_test_split\n",
    "X_train, X_test, y_train, y_test = train_test_split(data, fashion_class, test_size=0.7, random_state=13)"
   ]
  },
  {
   "cell_type": "code",
   "execution_count": 61,
   "metadata": {
    "collapsed": false
   },
   "outputs": [
    {
     "name": "stdout",
     "output_type": "stream",
     "text": [
      "Feature Matrix (X): (8416, 4) // Target (Y): (8416,)\n",
      "\t\n",
      "TRAIN SHAPE--> X: (2524, 4) // Y: (2524, 1)\n",
      "TEST SHAPE--> X: (5892, 4) // Y: (5892, 1)\n",
      "\t\n",
      "DECISIONTREE VS RANDOM FOREST CLASSIFIER (FASHION CATEGORY):\n",
      "\t\n",
      "DecisionTree - Train Score: 0.627971473851\n",
      "DecisionTree - Test Score: 0.557026476578\n",
      "\t\n",
      "RandomForest - Train Score: 0.743660855784\n",
      "RandomForest - Test Score: 0.547352342159\n"
     ]
    }
   ],
   "source": [
    "X,y = data, np.ravel(fashion_class)\n",
    "print 'Feature Matrix (X):', X.shape,'//', 'Target (Y):',y.shape\n",
    "\n",
    "print '\\t'\n",
    "\n",
    "print 'TRAIN SHAPE-->', 'X:', X_train.shape,'//', 'Y:', y_train.shape #(modelo lineal con 4 variables)\n",
    "print 'TEST SHAPE-->', 'X:',X_test.shape,'//','Y:', y_test.shape\n",
    "\n",
    "print '\\t'\n",
    "\n",
    "print 'DECISIONTREE VS RANDOM FOREST CLASSIFIER (FASHION CATEGORY):'\n",
    "\n",
    "print '\\t'\n",
    "\n",
    "#Fitting our DECISION TREE & RANDOM FOREST CLASSIFIERS WITH TRAINING DATA\n",
    "\n",
    "\n",
    "clf_dt = tree.DecisionTreeClassifier(max_depth=8)\n",
    "clf_dt = clf_dt.fit(X_train, np.ravel(y_train)) \n",
    "\n",
    "clf_rf = RandomForestClassifier(bootstrap=True, max_depth=None,\n",
    "           max_features='auto', max_leaf_nodes=None, min_samples_leaf=1,\n",
    "           min_samples_split=2,n_estimators=1000)\n",
    "\n",
    "clf_rf.fit(X_train, np.ravel(y_train))  \n",
    "\n",
    "# Best possible score is 1.0, lower values are worse.\n",
    "\n",
    "#dt\n",
    "print 'DecisionTree - Train Score:', clf_dt.score(X_train, y_train)\n",
    "print 'DecisionTree - Test Score:', clf_dt.score(X_test, y_test)\n",
    "\n",
    "print '\\t'\n",
    "\n",
    "#rf\n",
    "print 'RandomForest - Train Score:', clf_rf.score(X_train, y_train) \n",
    "print 'RandomForest - Test Score:', clf_rf.score(X_test, y_test) \n"
   ]
  },
  {
   "cell_type": "markdown",
   "metadata": {},
   "source": [
    "#### K-FOLD VALIDATION"
   ]
  },
  {
   "cell_type": "code",
   "execution_count": 62,
   "metadata": {
    "collapsed": true
   },
   "outputs": [],
   "source": [
    "from sklearn.cross_validation import * #validation strategy\n",
    "def train_and_evaluate(clf, X_train, y_train):\n",
    "    \n",
    "    clf.fit(X_train, y_train)\n",
    "    \n",
    "    print \"Coefficient of determination on training set:\",clf.score(X_train, y_train)\n",
    "    \n",
    "    # create a K-FOLD CROSS VALIDATION iterator of k=5 folds\n",
    "    cv = KFold(X_train.shape[0], 5, shuffle=True, random_state=33)\n",
    "    scores = cross_val_score(clf, X_train, y_train, cv=cv) #sorted by cv\n",
    "    \n",
    "    print \"Average coefficient of determination using 5-fold crossvalidation:\",np.mean(scores)\n",
    "    \n",
    "    print scores\n"
   ]
  },
  {
   "cell_type": "code",
   "execution_count": 63,
   "metadata": {
    "collapsed": false
   },
   "outputs": [
    {
     "name": "stdout",
     "output_type": "stream",
     "text": [
      "Coefficient of determination on training set: 0.627179080824\n",
      "Average coefficient of determination using 5-fold crossvalidation: 0.560227094138\n",
      "[ 0.55643564  0.53663366  0.54851485  0.58613861  0.5734127 ]\n"
     ]
    },
    {
     "data": {
      "text/plain": [
       "'clf_dt = tree.DecisionTreeClassifier(max_depth=6)'"
      ]
     },
     "execution_count": 63,
     "metadata": {},
     "output_type": "execute_result"
    }
   ],
   "source": [
    "\n",
    "train_and_evaluate(clf_dt,X_train,np.ravel(y_train))\n",
    "\n",
    "'''clf_dt = tree.DecisionTreeClassifier(max_depth=6)'''\n"
   ]
  },
  {
   "cell_type": "code",
   "execution_count": 64,
   "metadata": {
    "collapsed": false
   },
   "outputs": [
    {
     "name": "stdout",
     "output_type": "stream",
     "text": [
      "Coefficient of determination on training set: 0.743660855784\n",
      "Average coefficient of determination using 5-fold crossvalidation: 0.545562627691\n",
      "[ 0.53069307  0.53663366  0.56435644  0.55049505  0.54563492]\n"
     ]
    },
    {
     "data": {
      "text/plain": [
       "\"clf_rf = RandomForestClassifier(bootstrap=True, max_depth=None,\\n           max_features='auto', max_leaf_nodes=None, min_samples_leaf=1,\\n           min_samples_split=2,n_estimators=19)\""
      ]
     },
     "execution_count": 64,
     "metadata": {},
     "output_type": "execute_result"
    }
   ],
   "source": [
    "train_and_evaluate(clf_rf,X_train,np.ravel(y_train))\n",
    "\n",
    "\n",
    "\n",
    "'''clf_rf = RandomForestClassifier(bootstrap=True, max_depth=None,\n",
    "           max_features='auto', max_leaf_nodes=None, min_samples_leaf=1,\n",
    "           min_samples_split=2,n_estimators=19)'''"
   ]
  },
  {
   "cell_type": "code",
   "execution_count": 65,
   "metadata": {
    "collapsed": false
   },
   "outputs": [],
   "source": [
    "def measure_performance(X,y,clf_rf, show_accuracy=True, show_classification_report=True, show_confusion_matrix=True, show_r2_score=False):\n",
    "    y_pred=clf_rf.predict(X)   \n",
    "    if show_accuracy:\n",
    "        print \"Accuracy:{0:.3f}\".format(metrics.accuracy_score(y,y_pred)),\"\\n\"\n",
    "\n",
    "    if show_classification_report: #excepto cofficient of determination el resto son para clasificadores\n",
    "        print \"Classification report\"\n",
    "        print metrics.classification_report(y,y_pred),\"\\n\"\n",
    "        \n",
    "    if show_confusion_matrix:\n",
    "        print \"Confusion matrix\"\n",
    "        print metrics.confusion_matrix(y,y_pred),\"\\n\"\n",
    "        \n",
    "    if show_r2_score:\n",
    "        print \"Coefficient of determination:{0:.3f}\".format(metrics.r2_score(y,y_pred)),\"\\n\""
   ]
  },
  {
   "cell_type": "markdown",
   "metadata": {},
   "source": [
    "###DECISIONTREE CONFUSION MATRIX & PERFORMANCE MESURES"
   ]
  },
  {
   "cell_type": "code",
   "execution_count": 67,
   "metadata": {
    "collapsed": false
   },
   "outputs": [
    {
     "data": {
      "image/png": "[encoded data removed]",
      "text/plain": [
       "<matplotlib.figure.Figure at 0x109b72d90>"
      ]
     },
     "metadata": {},
     "output_type": "display_data"
    },
    {
     "name": "stdout",
     "output_type": "stream",
     "text": [
      "Evaluation decison tree test set:  \n",
      "\t\n",
      "Accuracy:0.557 \n",
      "\n",
      "Classification report\n",
      "             precision    recall  f1-score   support\n",
      "\n",
      "High [>67 eur]       0.23      0.08      0.12       286\n",
      "Low [<= 39 eur]       0.58      0.66      0.62      2885\n",
      "Medium [>39 to 67 eur]       0.55      0.50      0.52      2721\n",
      "\n",
      "avg / total       0.54      0.56      0.55      5892\n",
      "\n",
      "\n"
     ]
    }
   ],
   "source": [
    "import matplotlib.pyplot as plt\n",
    "import matplotlib as mpl\n",
    "import seaborn as sns\n",
    "\n",
    "y_pred= clf_dt.predict(X_test)\n",
    "\n",
    "\n",
    "def draw_confusion(y_test,y_pred,labels):\n",
    "    cm = metrics.confusion_matrix(y_test,  y_pred)\n",
    "    fig = plt.figure()\n",
    "    ax = fig.add_subplot(111)\n",
    "    ax.matshow(cm)\n",
    "    plt.title('Confusion matrix',size=20)\n",
    "    ax.set_xticklabels([''] + labels, size=18)\n",
    "    ax.set_yticklabels([''] + labels, size=18)\n",
    "    plt.ylabel('Predicted',size=20)\n",
    "    plt.xlabel('True',size=20)\n",
    "    for i in xrange(3):\n",
    "        for j in xrange(3):\n",
    "            ax.text(i, j, cm[i,j], va='center', ha='center',color='blue',size=20)\n",
    "    fig.set_size_inches(8,8)\n",
    "    plt.show()\n",
    "    \n",
    "    \n",
    "draw_confusion(y_test, y_pred ,['Low', 'Medium','High'])\n",
    "\n",
    "print 'Evaluation decison tree test set:  '   \n",
    "print '\\t'\n",
    "\n",
    "measure_performance(X_test,y_test,clf_dt, show_accuracy=True, \\\n",
    "                    show_classification_report=True,show_confusion_matrix=False, show_r2_score=False)\n",
    "\n"
   ]
  },
  {
   "cell_type": "markdown",
   "metadata": {},
   "source": [
    "###RANDOM FOREST CONFUSION MATRIX & PERFORMANCE MESUREMENT"
   ]
  },
  {
   "cell_type": "code",
   "execution_count": 52,
   "metadata": {
    "collapsed": false
   },
   "outputs": [
    {
     "data": {
      "image/png": "[encoded data removed]",
      "text/plain": [
       "<matplotlib.figure.Figure at 0x10a6e7f10>"
      ]
     },
     "metadata": {},
     "output_type": "display_data"
    },
    {
     "name": "stdout",
     "output_type": "stream",
     "text": [
      "Evaluation random forest test set:  \n",
      "\t\n",
      "Accuracy:0.543 \n",
      "\n",
      "Classification report\n",
      "             precision    recall  f1-score   support\n",
      "\n",
      "High [>67 eur]       0.21      0.10      0.13       286\n",
      "Low [<= 39 eur]       0.58      0.58      0.58      2885\n",
      "Medium [>39 to 67 eur]       0.52      0.55      0.54      2721\n",
      "\n",
      "avg / total       0.54      0.54      0.54      5892\n",
      "\n",
      "\n"
     ]
    }
   ],
   "source": [
    "y_pred= clf_rf.predict(X_test)\n",
    "\n",
    "draw_confusion(y_test, y_pred,['High','Low', 'Medium'])\n",
    "\n",
    "print 'Evaluation random forest test set:  '   \n",
    "print '\\t'\n",
    "       \n",
    "measure_performance(X_test,y_test,clf_rf, show_accuracy=True, \\\n",
    "                    show_classification_report=True,show_confusion_matrix=False, show_r2_score=False)\n"
   ]
  },
  {
   "cell_type": "markdown",
   "metadata": {},
   "source": [
    "###FEATURE SELECTION "
   ]
  },
  {
   "cell_type": "code",
   "execution_count": 53,
   "metadata": {
    "collapsed": false
   },
   "outputs": [
    {
     "name": "stdout",
     "output_type": "stream",
     "text": [
      "Features considered:  [(True, 'zipcode'), (True, 'gender'), (True, 'age'), (False, 'day')]\n",
      "\t\n",
      "Original test shape: (5892, 4)\n",
      "Original train shape: (2524, 4)\n",
      "\t\n",
      "New train shape: (2524, 3)\n",
      "New test shape: (5892, 3)\n"
     ]
    }
   ],
   "source": [
    "feature_names= data[['zipcode','gender','age','day']]\n",
    "\n",
    "from sklearn.feature_selection import *\n",
    "\n",
    "fs=SelectKBest(score_func=f_classif,k=3) #Select the best 3 features\n",
    "\n",
    "X_new_train=fs.fit_transform(X_train,np.ravel(y_train))\n",
    "X_new_test=fs.fit_transform(X_test,np.ravel(y_test))\n",
    "\n",
    "print 'Features considered: ', zip(fs.get_support(),feature_names) # Show the selected features\n",
    "\n",
    "print '\\t'\n",
    "\n",
    "print 'Original test shape:', X_test.shape\n",
    "print 'Original train shape:', X_train.shape\n",
    "\n",
    "print '\\t'\n",
    "\n",
    "print 'New train shape:', X_new_train.shape\n",
    "print 'New test shape:', X_new_test.shape\n",
    "\n"
   ]
  },
  {
   "cell_type": "code",
   "execution_count": 54,
   "metadata": {
    "collapsed": false
   },
   "outputs": [],
   "source": [
    "#Fitting with the best k=3 features insted of k=4\n",
    "\n",
    "clf_fs = RandomForestClassifier() #tree.DecisionTreeClassifier() or RandomForestClassifier()\n",
    "\n",
    "clf_fs = clf_fs.fit(X_new_train, np.ravel(y_train)) \n"
   ]
  },
  {
   "cell_type": "code",
   "execution_count": 55,
   "metadata": {
    "collapsed": false
   },
   "outputs": [
    {
     "data": {
      "image/png": "[encoded data removed]",
      "text/plain": [
       "<matplotlib.figure.Figure at 0x10e841d50>"
      ]
     },
     "metadata": {},
     "output_type": "display_data"
    },
    {
     "name": "stdout",
     "output_type": "stream",
     "text": [
      "Evaluation random forest test set:  \n",
      "\t\n",
      "Accuracy:0.583 \n",
      "\n",
      "Classification report\n",
      "             precision    recall  f1-score   support\n",
      "\n",
      "High [>67 eur]       0.41      0.06      0.10       286\n",
      "Low [<= 39 eur]       0.61      0.63      0.62      2885\n",
      "Medium [>39 to 67 eur]       0.56      0.59      0.58      2721\n",
      "\n",
      "avg / total       0.58      0.58      0.57      5892\n",
      "\n",
      "\n"
     ]
    }
   ],
   "source": [
    "y_pred= clf_fs.predict(X_new_test)\n",
    "\n",
    "draw_confusion(y_test, y_pred,['High','Low', 'Medium'])\n",
    "\n",
    "print 'Evaluation random forest test set:  '   \n",
    "print '\\t'\n",
    "       \n",
    "measure_performance(X_new_test,y_test,clf_fs, show_accuracy=True, \\\n",
    "                    show_classification_report=True,show_confusion_matrix=False, show_r2_score=False)\n"
   ]
  },
  {
   "cell_type": "markdown",
   "metadata": {
    "slideshow": {
     "slide_type": "fragment"
    }
   },
   "source": [
    "+ Accuracy: \n",
    "\n",
    "$$\\text{accuracy}=\\frac{\\text{TP}+\\text{TN}}{\\text{TP}+\\text{TN}+\\text{FP}+\\text{FN}}$$\n",
    "\n",
    "Column-wise:\n",
    "\n",
    "+ Sensitivity or Recall: \n",
    "\n",
    "$$\\text{sensitivity}=\\frac{\\text{TP}}{\\text{Real Positives}}=\\frac{\\text{TP}}{\\text{TP}+\\text{FN}}$$\n",
    "\n",
    "+ Specificity:\n",
    "\n",
    "$$\\text{specificity}=\\frac{\\text{TN}}{\\text{Real Negatives}}=\\frac{\\text{TN}}{\\text{TN}+\\text{FP}}$$\n",
    "\n",
    "Row-wise:\n",
    "\n",
    "+ Precision or Positive Predictive Value:\n",
    "\n",
    "$$\\text{precision}=\\frac{\\text{TP}}{\\text{Predicted Positives}}=\\frac{\\text{TP}}{\\text{TP}+\\text{FP}}$$\n",
    "\n",
    "+ Negative predictive value:\n",
    "\n",
    "$$\\text{NPV}=\\frac{\\text{TN}}{\\text{Predicted Negative}}=\\frac{\\text{TN}}{\\text{TN}+\\text{FN}}$$\n",
    "\n"
   ]
  },
  {
   "cell_type": "markdown",
   "metadata": {},
   "source": [
    "##4. CONCLUSIONS"
   ]
  },
  {
   "cell_type": "markdown",
   "metadata": {
    "collapsed": true
   },
   "source": [
    "+ Adapting raw data into some predictor models is not always straightforward (p.e. Categorical variables do not fit properly in the LinearRegression() model provided by sklearn, just if you transform them into binary variables)\n",
    "\n",
    "\n",
    "+ Regressors are not so efficient if we apply just a few categorical variables, specially if they are not strongly correlated with our target\n",
    "\n",
    "\n",
    "+ Although our classifiers lead to an interval average payment and not to an specific number, they give a remarkable better score and sometimes can be more playable\n",
    "\n",
    "\n",
    "+ Importance in the equilibrium between algorithm performance vs generalization \n",
    "\n",
    "\n",
    "+ Feature selection is a key process which can determine the performance of our predictors\n",
    "\n",
    "\n",
    "+ People tend to buy a few product on a single purchase<\n",
    " "
   ]
  }
 ],
 "metadata": {
  "kernelspec": {
   "display_name": "Python 2",
   "language": "python",
   "name": "python2"
  },
  "language_info": {
   "codemirror_mode": {
    "name": "ipython",
    "version": 2
   },
   "file_extension": ".py",
   "mimetype": "text/x-python",
   "name": "python",
   "nbconvert_exporter": "python",
   "pygments_lexer": "ipython2",
   "version": "2.7.10"
  }
 },
 "nbformat": 4,
 "nbformat_minor": 0
}
